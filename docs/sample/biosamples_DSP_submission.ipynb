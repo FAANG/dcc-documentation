{
 "cells": [
  {
   "cell_type": "code",
   "execution_count": 53,
   "metadata": {},
   "outputs": [],
   "source": [
    "import requests\n",
    "import json\n",
    "from requests.auth import HTTPBasicAuth"
   ]
  },
  {
   "cell_type": "markdown",
   "metadata": {},
   "source": [
    "# Registration and creation of team"
   ]
  },
  {
   "cell_type": "markdown",
   "metadata": {},
   "source": [
    "### 1. Follow instructions to create [AAP test accout](https://submission-test.ebi.ac.uk/api/docs/guide_accounts_and_logging_in.html) or [AAP production account](https://submission.ebi.ac.uk/api/docs/guide_accounts_and_logging_in.html)"
   ]
  },
  {
   "cell_type": "code",
   "execution_count": 54,
   "metadata": {},
   "outputs": [],
   "source": [
    "# Assign your AAP username and accout to these variables\n",
    "AAP_USERNAME = \"\"\n",
    "AAP_PASSWORD = \"\""
   ]
  },
  {
   "cell_type": "code",
   "execution_count": 104,
   "metadata": {},
   "outputs": [],
   "source": [
    "# Comment out these lines if you don't want to use test server for submission\n",
    "aap_server = 'https://explore.api.aai.ebi.ac.uk/auth'\n",
    "submission_server = 'https://submission-test.ebi.ac.uk/api/'\n",
    "\n",
    "# Uncomment these line if you want to use production server\n",
    "# aap_server = 'https://api.aai.ebi.ac.uk/auth'\n",
    "# submission_server = 'https://submission.ebi.ac.uk/api'"
   ]
  },
  {
   "cell_type": "markdown",
   "metadata": {},
   "source": [
    "### 2. Use this function to get token (valid for 1 hour only)"
   ]
  },
  {
   "cell_type": "code",
   "execution_count": 105,
   "metadata": {},
   "outputs": [],
   "source": [
    "def get_token():\n",
    "    response = requests.get(aap_server, auth=HTTPBasicAuth(AAP_USERNAME, AAP_PASSWORD))\n",
    "    return response.text"
   ]
  },
  {
   "cell_type": "code",
   "execution_count": 106,
   "metadata": {},
   "outputs": [],
   "source": [
    "TOKEN = get_token()"
   ]
  },
  {
   "cell_type": "markdown",
   "metadata": {},
   "source": [
    "### 3. Create a team"
   ]
  },
  {
   "cell_type": "code",
   "execution_count": 107,
   "metadata": {},
   "outputs": [],
   "source": [
    "# Provide team description in this line\n",
    "team_description = \"\"\n",
    "\n",
    "# Provide centre name description in this line\n",
    "centre_name = \"\"\n",
    "team_data = {\n",
    "    'description': team_description,\n",
    "    'centreName': centre_name\n",
    "}\n",
    "team_data = json.dumps(team_data)"
   ]
  },
  {
   "cell_type": "code",
   "execution_count": 33,
   "metadata": {},
   "outputs": [],
   "source": [
    "create_team_response = requests.post(f'{submission_server}user/teams',\n",
    "                                     headers={'Content-Type': 'application/json',\n",
    "                                              'Accept': 'application/hal+json',\n",
    "                                              'Authorization': f'Bearer {TOKEN}'},\n",
    "                                     data=team_data)"
   ]
  },
  {
   "cell_type": "code",
   "execution_count": 35,
   "metadata": {},
   "outputs": [],
   "source": [
    "# You need to get new token after team creation\n",
    "TOKEN = get_token()"
   ]
  },
  {
   "cell_type": "markdown",
   "metadata": {},
   "source": [
    "# Create submission"
   ]
  },
  {
   "cell_type": "markdown",
   "metadata": {},
   "source": [
    "### 1. Start from the root"
   ]
  },
  {
   "cell_type": "code",
   "execution_count": 57,
   "metadata": {},
   "outputs": [],
   "source": [
    "root_response = requests.get(submission_server, headers={'Content-Type': 'application/json',\n",
    "                                                         'Accept': 'application/hal+json',\n",
    "                                                         'Authorization': f'Bearer {TOKEN}'})"
   ]
  },
  {
   "cell_type": "markdown",
   "metadata": {},
   "source": [
    "### 2. Peak a team"
   ]
  },
  {
   "cell_type": "code",
   "execution_count": 59,
   "metadata": {},
   "outputs": [],
   "source": [
    "team_response = requests.get(root_response.json()['_links']['userTeams']['href'],\n",
    "                             headers={'Content-Type': 'application/json',\n",
    "                                      'Accept': 'application/hal+json',\n",
    "                                      'Authorization': f'Bearer {TOKEN}'})"
   ]
  },
  {
   "cell_type": "markdown",
   "metadata": {},
   "source": [
    "### 3. Creating a submission"
   ]
  },
  {
   "cell_type": "code",
   "execution_count": 61,
   "metadata": {},
   "outputs": [],
   "source": [
    "# We choose first team here (index 0)\n",
    "create_submissions_link = team_response.json()['_embedded']['teams'][0]['_links']['submissions:create']['href']"
   ]
  },
  {
   "cell_type": "code",
   "execution_count": 62,
   "metadata": {},
   "outputs": [],
   "source": [
    "creating_submission_response = requests.post(create_submissions_link, headers={'Content-Type': 'application/json',\n",
    "                                                                               'Accept': 'application/hal+json',\n",
    "                                                                               'Authorization': f'Bearer {TOKEN}'}, \n",
    "                                             data='{}')"
   ]
  },
  {
   "cell_type": "markdown",
   "metadata": {},
   "source": [
    "### 4. Adding a sample record to a submission"
   ]
  },
  {
   "cell_type": "code",
   "execution_count": 64,
   "metadata": {},
   "outputs": [],
   "source": [
    "submission_contents_link = creating_submission_response.json()['_links']['contents']['href']"
   ]
  },
  {
   "cell_type": "code",
   "execution_count": 65,
   "metadata": {},
   "outputs": [],
   "source": [
    "submission_contents_response = requests.get(submission_contents_link, headers={'Content-Type': 'application/json',\n",
    "                                      'Accept': 'application/hal+json',\n",
    "                                      'Authorization': f'Bearer {TOKEN}'})"
   ]
  },
  {
   "cell_type": "code",
   "execution_count": 66,
   "metadata": {},
   "outputs": [],
   "source": [
    "samples_create_link = submission_contents_response.json()['_links']['samples:create']['href']"
   ]
  },
  {
   "cell_type": "code",
   "execution_count": 67,
   "metadata": {},
   "outputs": [],
   "source": [
    "# Please provide path to samples.json file that you got from validation system, ex. /Users/alexey/samples.json\n",
    "samples_json_path = ''\n",
    "with open(samples_json_path, 'r') as f:\n",
    "    data = json.loads(f.read())"
   ]
  },
  {
   "cell_type": "code",
   "execution_count": 68,
   "metadata": {},
   "outputs": [],
   "source": [
    "for record in data:\n",
    "    record = json.dumps(record)\n",
    "    create_sample_response = requests.post(samples_create_link, headers={'Content-Type': 'application/json',\n",
    "                                                                         'Accept': 'application/hal+json',\n",
    "                                                                         'Authorization': f'Bearer {TOKEN}'}, \n",
    "                                           data=record)"
   ]
  },
  {
   "cell_type": "markdown",
   "metadata": {},
   "source": [
    "### 5. Finalising your submission"
   ]
  },
  {
   "cell_type": "code",
   "execution_count": 75,
   "metadata": {},
   "outputs": [],
   "source": [
    "submission_link = root_response.json()['_links']['userSubmissions']['href']"
   ]
  },
  {
   "cell_type": "code",
   "execution_count": 76,
   "metadata": {},
   "outputs": [],
   "source": [
    "submission_response = requests.get(submission_link, headers={'Content-Type': 'application/json',\n",
    "                                                             'Accept': 'application/hal+json',\n",
    "                                                             'Authorization': f'Bearer {TOKEN}'})"
   ]
  },
  {
   "cell_type": "code",
   "execution_count": 77,
   "metadata": {},
   "outputs": [],
   "source": [
    "submission_status_link = submission_response.json()['_embedded']['submissions'][0]['_links']['submissionStatus']['href']"
   ]
  },
  {
   "cell_type": "code",
   "execution_count": 78,
   "metadata": {},
   "outputs": [],
   "source": [
    "submission_status_response = requests.get(submission_status_link, headers={'Content-Type': 'application/json',\n",
    "                                                                           'Accept': 'application/hal+json',\n",
    "                                                                           'Authorization': f'Bearer {TOKEN}'})"
   ]
  },
  {
   "cell_type": "code",
   "execution_count": 79,
   "metadata": {},
   "outputs": [],
   "source": [
    "self_link = submission_status_response.json()['_links']['self']['href']"
   ]
  },
  {
   "cell_type": "code",
   "execution_count": 80,
   "metadata": {},
   "outputs": [],
   "source": [
    "self_response = requests.get(self_link, headers={'Content-Type': 'application/json',\n",
    "                                                 'Accept': 'application/hal+json',\n",
    "                                                 'Authorization': f'Bearer {TOKEN}'})"
   ]
  },
  {
   "cell_type": "code",
   "execution_count": 81,
   "metadata": {},
   "outputs": [],
   "source": [
    "available_statuses_link = self_response.json()['_links']['availableStatuses']['href']"
   ]
  },
  {
   "cell_type": "code",
   "execution_count": 82,
   "metadata": {},
   "outputs": [],
   "source": [
    "available_statuses_response = requests.get(available_statuses_link, headers={'Content-Type': 'application/json',\n",
    "                                                                             'Accept': 'application/hal+json',\n",
    "                                                                             'Authorization': f'Bearer {TOKEN}'})"
   ]
  },
  {
   "cell_type": "code",
   "execution_count": 85,
   "metadata": {},
   "outputs": [],
   "source": [
    "change_submission_status_response = requests.put(submission_status_link, headers={'Content-Type': 'application/json',\n",
    "                                                                                  'Accept': 'application/hal+json',\n",
    "                                                                                  'Authorization': f'Bearer {TOKEN}'},\n",
    "                                                 data='{\"status\": \"Submitted\"}')"
   ]
  },
  {
   "cell_type": "markdown",
   "metadata": {},
   "source": [
    "### 6. Get status of submission"
   ]
  },
  {
   "cell_type": "code",
   "execution_count": 86,
   "metadata": {},
   "outputs": [],
   "source": [
    "processing_statuses_link = submission_response.json()['_embedded']['submissions'][0]['_links']['processingStatuses']['href']\n",
    "processing_statuses_link = processing_statuses_link + '&size=500'\n",
    "processing_statuses_response = requests.get(processing_statuses_link, headers={'Content-Type': 'application/json',\n",
    "                                                                               'Accept': 'application/hal+json',\n",
    "                                                                               'Authorization': f'Bearer {TOKEN}'})\n",
    "with open('submission_results.txt', 'w') as f:\n",
    "    for sample in processing_statuses_response.json()['_embedded']['processingStatuses']:\n",
    "        if 'accession' in sample:\n",
    "            f.write(f\"{sample['alias']}\\t{sample['accession']}\\t{sample['status']}\\n\")\n",
    "        else:\n",
    "            print(f\"sample accession is not available yet for {sample['alias']}, repeat this cell in several seconds\")"
   ]
  }
 ],
 "metadata": {
  "kernelspec": {
   "display_name": "Python 3",
   "language": "python",
   "name": "python3"
  },
  "language_info": {
   "codemirror_mode": {
    "name": "ipython",
    "version": 3
   },
   "file_extension": ".py",
   "mimetype": "text/x-python",
   "name": "python",
   "nbconvert_exporter": "python",
   "pygments_lexer": "ipython3",
   "version": "3.7.3"
  }
 },
 "nbformat": 4,
 "nbformat_minor": 2
}
