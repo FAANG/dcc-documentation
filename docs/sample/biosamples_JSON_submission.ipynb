{
 "cells": [
  {
   "cell_type": "code",
   "execution_count": null,
   "metadata": {},
   "outputs": [],
   "source": [
    "import requests\n",
    "import json\n",
    "from requests.auth import HTTPBasicAuth"
   ]
  },
  {
   "cell_type": "markdown",
   "metadata": {},
   "source": [
    "# Registration and creation of domain"
   ]
  },
  {
   "cell_type": "markdown",
   "metadata": {},
   "source": [
    "### 1. Follow instructions to create [AAP test accout](https://submission-test.ebi.ac.uk/api/docs/guide_accounts_and_logging_in.html) or [AAP production account](https://submission.ebi.ac.uk/api/docs/guide_accounts_and_logging_in.html)"
   ]
  },
  {
   "cell_type": "code",
   "execution_count": null,
   "metadata": {},
   "outputs": [],
   "source": [
    "# Assign your AAP username and accout to these variables\n",
    "AAP_USERNAME = \"\"\n",
    "AAP_PASSWORD = \"\""
   ]
  },
  {
   "cell_type": "code",
   "execution_count": null,
   "metadata": {},
   "outputs": [],
   "source": [
    "# Comment out these lines if you don't want to use test server for submission\n",
    "aap_server = 'https://explore.api.aai.ebi.ac.uk'\n",
    "submission_server = 'https://wwwdev.ebi.ac.uk'\n",
    "\n",
    "# Uncomment these line if you want to use production server\n",
    "# aap_server = 'https://api.aai.ebi.ac.uk'\n",
    "# submission_server = 'https://www.ebi.ac.uk'"
   ]
  },
  {
   "cell_type": "markdown",
   "metadata": {},
   "source": [
    "### 2. Use this function to get token (valid for 1 hour only)"
   ]
  },
  {
   "cell_type": "code",
   "execution_count": null,
   "metadata": {},
   "outputs": [],
   "source": [
    "def get_token():\n",
    "    response = requests.get(f\"{aap_server}/auth\", auth=HTTPBasicAuth(AAP_USERNAME, AAP_PASSWORD))\n",
    "    return response.text"
   ]
  },
  {
   "cell_type": "code",
   "execution_count": null,
   "metadata": {},
   "outputs": [],
   "source": [
    "TOKEN = get_token()"
   ]
  },
  {
   "cell_type": "markdown",
   "metadata": {},
   "source": [
    "### 3*. Create a domain (optional)"
   ]
  },
  {
   "cell_type": "code",
   "execution_count": null,
   "metadata": {},
   "outputs": [],
   "source": [
    "# Provide domain name\n",
    "domain_name = ''\n",
    "# Provide domain description\n",
    "domain_desc = ''\n",
    "domain_data = {\n",
    "    'domainName': domain_name,\n",
    "    'domainDesc': domain_desc\n",
    "}\n",
    "domain_data = json.dumps(domain_data)"
   ]
  },
  {
   "cell_type": "code",
   "execution_count": null,
   "metadata": {},
   "outputs": [],
   "source": [
    "create_domain_response = requests.post(f\"{aap_server}/domains\", \n",
    "                                       headers={'Content-Type': 'application/json',\n",
    "                                                'Accept': 'application/hal+json',\n",
    "                                                'Authorization': f'Bearer {TOKEN}'}, \n",
    "                                       data=domain_data)"
   ]
  },
  {
   "cell_type": "code",
   "execution_count": null,
   "metadata": {},
   "outputs": [],
   "source": [
    "TOKEN = get_token()"
   ]
  },
  {
   "cell_type": "markdown",
   "metadata": {},
   "source": [
    "### 3. Choose domain"
   ]
  },
  {
   "cell_type": "code",
   "execution_count": null,
   "metadata": {},
   "outputs": [],
   "source": [
    "choose_domain_response = requests.get(f\"{aap_server}/my/domains\", \n",
    "                                     headers={'Content-Type': 'application/json',\n",
    "                                              'Accept': 'application/hal+json',\n",
    "                                              'Authorization': f'Bearer {TOKEN}'})"
   ]
  },
  {
   "cell_type": "code",
   "execution_count": null,
   "metadata": {},
   "outputs": [],
   "source": [
    "for domain in choose_domain_response.json():\n",
    "    print(domain['domainName'])"
   ]
  },
  {
   "cell_type": "code",
   "execution_count": null,
   "metadata": {},
   "outputs": [],
   "source": [
    "# from domain names above choose one and asign it to this variable\n",
    "domain_name = ''"
   ]
  },
  {
   "cell_type": "markdown",
   "metadata": {},
   "source": [
    "# Create submission"
   ]
  },
  {
   "cell_type": "code",
   "execution_count": null,
   "metadata": {},
   "outputs": [],
   "source": [
    "# Provide path to samples.json file\n",
    "samples_json_path = ''\n",
    "with open(samples_json_path, 'r') as f:\n",
    "    data = json.loads(f.read())"
   ]
  },
  {
   "cell_type": "code",
   "execution_count": null,
   "metadata": {},
   "outputs": [],
   "source": [
    "# submit records without relationships part\n",
    "biosamples_ids = dict()\n",
    "with open('submission_results.txt', 'w') as f:\n",
    "    for item in data:\n",
    "        item['domain'] = domain_name\n",
    "        del item['relationships']\n",
    "        name = item['name']\n",
    "        item = json.dumps(item)\n",
    "        create_submission_response = requests.post(f\"{submission_server}/biosamples/samples\",\n",
    "                                                   headers={'Content-Type': 'application/json',\n",
    "                                                            'Accept': 'application/hal+json',\n",
    "                                                            'Authorization': f'Bearer {TOKEN}'}, \n",
    "                                                   data=item)\n",
    "        biosamples_ids[name] = create_submission_response.json()['accession']\n",
    "        f.write(f\"{name}\\t{create_submission_response.json()['accession']}\\n\")"
   ]
  },
  {
   "cell_type": "code",
   "execution_count": null,
   "metadata": {},
   "outputs": [],
   "source": [
    "# update record with relationships part\n",
    "with open(samples_json_path, 'r') as f:\n",
    "    data = json.loads(f.read())\n",
    "for item in data:\n",
    "    if len(item['relationships']) > 0:\n",
    "        for relationship in item['relationships']:\n",
    "            if relationship['source'] in biosamples_ids:\n",
    "                relationship['source'] = biosamples_ids[relationship['source']]\n",
    "            if relationship['target'] in biosamples_ids:\n",
    "                relationship['target'] = biosamples_ids[relationship['target']]\n",
    "        biosample_id = biosamples_ids[item['name']]\n",
    "        item['accession'] = biosample_id\n",
    "        item['domain'] = domain_name\n",
    "        item = json.dumps(item)\n",
    "        create_submission_response = requests.put(f\"{submission_server}/biosamples/samples/{biosample_id}\",\n",
    "                                                   headers={'Content-Type': 'application/json',\n",
    "                                                            'Accept': 'application/hal+json',\n",
    "                                                            'Authorization': f'Bearer {TOKEN}'}, \n",
    "                                                   data=item)"
   ]
  }
 ],
 "metadata": {
  "kernelspec": {
   "display_name": "Python 3",
   "language": "python",
   "name": "python3"
  },
  "language_info": {
   "codemirror_mode": {
    "name": "ipython",
    "version": 3
   },
   "file_extension": ".py",
   "mimetype": "text/x-python",
   "name": "python",
   "nbconvert_exporter": "python",
   "pygments_lexer": "ipython3",
   "version": "3.7.7"
  }
 },
 "nbformat": 4,
 "nbformat_minor": 2
}
